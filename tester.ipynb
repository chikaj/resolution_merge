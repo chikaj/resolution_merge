{
 "cells": [
  {
   "cell_type": "code",
   "execution_count": 47,
   "metadata": {},
   "outputs": [],
   "source": [
    "import numpy as np\n",
    "import numpy.ma as ma\n",
    "import rasterio\n",
    "from affine import Affine\n",
    "from sklearn.decomposition import PCA"
   ]
  },
  {
   "cell_type": "markdown",
   "metadata": {},
   "source": [
    "## 1a. Let's prepare a 3-band raster"
   ]
  },
  {
   "cell_type": "code",
   "execution_count": 48,
   "metadata": {},
   "outputs": [],
   "source": [
    "bands = 4\n",
    "rows = 5\n",
    "cols = 6\n",
    "num = bands * rows * cols"
   ]
  },
  {
   "cell_type": "code",
   "execution_count": 49,
   "metadata": {},
   "outputs": [],
   "source": [
    "data = np.linspace(1, num, num)\n",
    "# data = np.random.rand(bands, rows, cols)"
   ]
  },
  {
   "cell_type": "code",
   "execution_count": 50,
   "metadata": {},
   "outputs": [
    {
     "data": {
      "text/plain": [
       "array([  1.,   2.,   3.,   4.,   5.,   6.,   7.,   8.,   9.,  10.,  11.,\n",
       "        12.,  13.,  14.,  15.,  16.,  17.,  18.,  19.,  20.,  21.,  22.,\n",
       "        23.,  24.,  25.,  26.,  27.,  28.,  29.,  30.,  31.,  32.,  33.,\n",
       "        34.,  35.,  36.,  37.,  38.,  39.,  40.,  41.,  42.,  43.,  44.,\n",
       "        45.,  46.,  47.,  48.,  49.,  50.,  51.,  52.,  53.,  54.,  55.,\n",
       "        56.,  57.,  58.,  59.,  60.,  61.,  62.,  63.,  64.,  65.,  66.,\n",
       "        67.,  68.,  69.,  70.,  71.,  72.,  73.,  74.,  75.,  76.,  77.,\n",
       "        78.,  79.,  80.,  81.,  82.,  83.,  84.,  85.,  86.,  87.,  88.,\n",
       "        89.,  90.,  91.,  92.,  93.,  94.,  95.,  96.,  97.,  98.,  99.,\n",
       "       100., 101., 102., 103., 104., 105., 106., 107., 108., 109., 110.,\n",
       "       111., 112., 113., 114., 115., 116., 117., 118., 119., 120.])"
      ]
     },
     "execution_count": 50,
     "metadata": {},
     "output_type": "execute_result"
    }
   ],
   "source": [
    "data"
   ]
  },
  {
   "cell_type": "code",
   "execution_count": 51,
   "metadata": {},
   "outputs": [],
   "source": [
    "data = data.reshape(bands, rows, cols)"
   ]
  },
  {
   "cell_type": "code",
   "execution_count": 52,
   "metadata": {},
   "outputs": [
    {
     "data": {
      "text/plain": [
       "array([[[  1.,   2.,   3.,   4.,   5.,   6.],\n",
       "        [  7.,   8.,   9.,  10.,  11.,  12.],\n",
       "        [ 13.,  14.,  15.,  16.,  17.,  18.],\n",
       "        [ 19.,  20.,  21.,  22.,  23.,  24.],\n",
       "        [ 25.,  26.,  27.,  28.,  29.,  30.]],\n",
       "\n",
       "       [[ 31.,  32.,  33.,  34.,  35.,  36.],\n",
       "        [ 37.,  38.,  39.,  40.,  41.,  42.],\n",
       "        [ 43.,  44.,  45.,  46.,  47.,  48.],\n",
       "        [ 49.,  50.,  51.,  52.,  53.,  54.],\n",
       "        [ 55.,  56.,  57.,  58.,  59.,  60.]],\n",
       "\n",
       "       [[ 61.,  62.,  63.,  64.,  65.,  66.],\n",
       "        [ 67.,  68.,  69.,  70.,  71.,  72.],\n",
       "        [ 73.,  74.,  75.,  76.,  77.,  78.],\n",
       "        [ 79.,  80.,  81.,  82.,  83.,  84.],\n",
       "        [ 85.,  86.,  87.,  88.,  89.,  90.]],\n",
       "\n",
       "       [[ 91.,  92.,  93.,  94.,  95.,  96.],\n",
       "        [ 97.,  98.,  99., 100., 101., 102.],\n",
       "        [103., 104., 105., 106., 107., 108.],\n",
       "        [109., 110., 111., 112., 113., 114.],\n",
       "        [115., 116., 117., 118., 119., 120.]]])"
      ]
     },
     "execution_count": 52,
     "metadata": {},
     "output_type": "execute_result"
    }
   ],
   "source": [
    "data"
   ]
  },
  {
   "cell_type": "code",
   "execution_count": 53,
   "metadata": {},
   "outputs": [
    {
     "data": {
      "text/plain": [
       "(4, 5, 6)"
      ]
     },
     "execution_count": 53,
     "metadata": {},
     "output_type": "execute_result"
    }
   ],
   "source": [
    "data.shape"
   ]
  },
  {
   "cell_type": "code",
   "execution_count": 54,
   "metadata": {},
   "outputs": [
    {
     "name": "stdout",
     "output_type": "stream",
     "text": [
      "1.0\n",
      "120.0\n"
     ]
    }
   ],
   "source": [
    "print(np.amin(data))\n",
    "print(np.amax(data))"
   ]
  },
  {
   "cell_type": "markdown",
   "metadata": {},
   "source": [
    "## 1b. Now let's make the surrounding pixels be nan's...no data values for the skewed part of an image"
   ]
  },
  {
   "cell_type": "code",
   "execution_count": 55,
   "metadata": {},
   "outputs": [
    {
     "name": "stdout",
     "output_type": "stream",
     "text": [
      "4\n",
      "5\n",
      "6\n"
     ]
    }
   ],
   "source": [
    "print(data.shape[0])\n",
    "print(data.shape[1])\n",
    "print(data.shape[2])"
   ]
  },
  {
   "cell_type": "code",
   "execution_count": 56,
   "metadata": {},
   "outputs": [],
   "source": [
    "data[:, :, 0] = np.nan # first column\n",
    "data[:, 0, :] = np.nan # first row\n",
    "data[:, :, data.shape[2]-1] = np.nan # last column\n",
    "data[:, data.shape[1]-1, :] = np.nan # last row\n",
    "data[:, 1, 1] = np.nan # upper-left corner\n",
    "data[:, data.shape[1]-2, data.shape[2]-2] = np.nan # lower-right corner"
   ]
  },
  {
   "cell_type": "code",
   "execution_count": 57,
   "metadata": {},
   "outputs": [
    {
     "data": {
      "text/plain": [
       "array([[[ nan,  nan,  nan,  nan,  nan,  nan],\n",
       "        [ nan,  nan,   9.,  10.,  11.,  nan],\n",
       "        [ nan,  14.,  15.,  16.,  17.,  nan],\n",
       "        [ nan,  20.,  21.,  22.,  nan,  nan],\n",
       "        [ nan,  nan,  nan,  nan,  nan,  nan]],\n",
       "\n",
       "       [[ nan,  nan,  nan,  nan,  nan,  nan],\n",
       "        [ nan,  nan,  39.,  40.,  41.,  nan],\n",
       "        [ nan,  44.,  45.,  46.,  47.,  nan],\n",
       "        [ nan,  50.,  51.,  52.,  nan,  nan],\n",
       "        [ nan,  nan,  nan,  nan,  nan,  nan]],\n",
       "\n",
       "       [[ nan,  nan,  nan,  nan,  nan,  nan],\n",
       "        [ nan,  nan,  69.,  70.,  71.,  nan],\n",
       "        [ nan,  74.,  75.,  76.,  77.,  nan],\n",
       "        [ nan,  80.,  81.,  82.,  nan,  nan],\n",
       "        [ nan,  nan,  nan,  nan,  nan,  nan]],\n",
       "\n",
       "       [[ nan,  nan,  nan,  nan,  nan,  nan],\n",
       "        [ nan,  nan,  99., 100., 101.,  nan],\n",
       "        [ nan, 104., 105., 106., 107.,  nan],\n",
       "        [ nan, 110., 111., 112.,  nan,  nan],\n",
       "        [ nan,  nan,  nan,  nan,  nan,  nan]]])"
      ]
     },
     "execution_count": 57,
     "metadata": {},
     "output_type": "execute_result"
    }
   ],
   "source": [
    "data"
   ]
  },
  {
   "cell_type": "code",
   "execution_count": 58,
   "metadata": {},
   "outputs": [
    {
     "data": {
      "text/plain": [
       "(4, 5, 6)"
      ]
     },
     "execution_count": 58,
     "metadata": {},
     "output_type": "execute_result"
    }
   ],
   "source": [
    "data.shape"
   ]
  },
  {
   "cell_type": "code",
   "execution_count": 59,
   "metadata": {},
   "outputs": [
    {
     "data": {
      "text/plain": [
       "3"
      ]
     },
     "execution_count": 59,
     "metadata": {},
     "output_type": "execute_result"
    }
   ],
   "source": [
    "data.ndim"
   ]
  },
  {
   "cell_type": "code",
   "execution_count": 60,
   "metadata": {},
   "outputs": [
    {
     "data": {
      "text/plain": [
       "9.0"
      ]
     },
     "execution_count": 60,
     "metadata": {},
     "output_type": "execute_result"
    }
   ],
   "source": [
    "np.nanmin(data)"
   ]
  },
  {
   "cell_type": "code",
   "execution_count": 61,
   "metadata": {},
   "outputs": [
    {
     "data": {
      "text/plain": [
       "112.0"
      ]
     },
     "execution_count": 61,
     "metadata": {},
     "output_type": "execute_result"
    }
   ],
   "source": [
    "np.nanmax(data)"
   ]
  },
  {
   "cell_type": "markdown",
   "metadata": {},
   "source": [
    "# __2. Getting to work: trimming out the nan's and mapping them back__"
   ]
  },
  {
   "cell_type": "markdown",
   "metadata": {},
   "source": [
    "### TRIMMING, version 1...\n",
    "    ...where the masks of all bands are the same (perhaps an unrealistic situation?)"
   ]
  },
  {
   "cell_type": "code",
   "execution_count": 35,
   "metadata": {},
   "outputs": [
    {
     "name": "stdout",
     "output_type": "stream",
     "text": [
      "[[[ True  True  True  True  True  True]\n",
      "  [ True  True False False False  True]\n",
      "  [ True False False False False  True]\n",
      "  [ True False False False  True  True]\n",
      "  [ True  True  True  True  True  True]]\n",
      "\n",
      " [[ True  True  True  True  True  True]\n",
      "  [ True  True False False False  True]\n",
      "  [ True False False False False  True]\n",
      "  [ True False False False  True  True]\n",
      "  [ True  True  True  True  True  True]]\n",
      "\n",
      " [[ True  True  True  True  True  True]\n",
      "  [ True  True False False False  True]\n",
      "  [ True False False False False  True]\n",
      "  [ True False False False  True  True]\n",
      "  [ True  True  True  True  True  True]]\n",
      "\n",
      " [[ True  True  True  True  True  True]\n",
      "  [ True  True False False False  True]\n",
      "  [ True False False False False  True]\n",
      "  [ True False False False  True  True]\n",
      "  [ True  True  True  True  True  True]]]\n",
      "(4, 5, 6)\n"
     ]
    }
   ],
   "source": [
    "mask = np.isnan(data)\n",
    "print(mask)\n",
    "print(mask.shape)"
   ]
  },
  {
   "cell_type": "code",
   "execution_count": 36,
   "metadata": {},
   "outputs": [],
   "source": [
    "trimmed = data[~mask]"
   ]
  },
  {
   "cell_type": "code",
   "execution_count": 37,
   "metadata": {},
   "outputs": [
    {
     "data": {
      "text/plain": [
       "array([  9.,  10.,  11.,  14.,  15.,  16.,  17.,  20.,  21.,  22.,  39.,\n",
       "        40.,  41.,  44.,  45.,  46.,  47.,  50.,  51.,  52.,  69.,  70.,\n",
       "        71.,  74.,  75.,  76.,  77.,  80.,  81.,  82.,  99., 100., 101.,\n",
       "       104., 105., 106., 107., 110., 111., 112.])"
      ]
     },
     "execution_count": 37,
     "metadata": {},
     "output_type": "execute_result"
    }
   ],
   "source": [
    "trimmed"
   ]
  },
  {
   "cell_type": "code",
   "execution_count": 38,
   "metadata": {},
   "outputs": [
    {
     "data": {
      "text/plain": [
       "(40,)"
      ]
     },
     "execution_count": 38,
     "metadata": {},
     "output_type": "execute_result"
    }
   ],
   "source": [
    "trimmed.shape"
   ]
  },
  {
   "cell_type": "code",
   "execution_count": 39,
   "metadata": {},
   "outputs": [
    {
     "data": {
      "text/plain": [
       "1"
      ]
     },
     "execution_count": 39,
     "metadata": {},
     "output_type": "execute_result"
    }
   ],
   "source": [
    "trimmed.ndim"
   ]
  },
  {
   "cell_type": "code",
   "execution_count": 40,
   "metadata": {},
   "outputs": [
    {
     "data": {
      "text/plain": [
       "array([[  9.,  39.,  69.,  99.],\n",
       "       [ 10.,  40.,  70., 100.],\n",
       "       [ 11.,  41.,  71., 101.],\n",
       "       [ 14.,  44.,  74., 104.],\n",
       "       [ 15.,  45.,  75., 105.],\n",
       "       [ 16.,  46.,  76., 106.],\n",
       "       [ 17.,  47.,  77., 107.],\n",
       "       [ 20.,  50.,  80., 110.],\n",
       "       [ 21.,  51.,  81., 111.],\n",
       "       [ 22.,  52.,  82., 112.]])"
      ]
     },
     "execution_count": 40,
     "metadata": {},
     "output_type": "execute_result"
    }
   ],
   "source": [
    "trimmed = trimmed.reshape(bands, int(len(trimmed)/bands)).T\n",
    "trimmed"
   ]
  },
  {
   "cell_type": "code",
   "execution_count": 41,
   "metadata": {},
   "outputs": [
    {
     "data": {
      "text/plain": [
       "(10, 4)"
      ]
     },
     "execution_count": 41,
     "metadata": {},
     "output_type": "execute_result"
    }
   ],
   "source": [
    "trimmed.shape"
   ]
  },
  {
   "cell_type": "code",
   "execution_count": 42,
   "metadata": {},
   "outputs": [
    {
     "name": "stdout",
     "output_type": "stream",
     "text": [
      "9.0\n",
      "112.0\n",
      "60.5\n"
     ]
    }
   ],
   "source": [
    "print(np.min(trimmed))\n",
    "print(np.max(trimmed))\n",
    "print(np.mean(trimmed))"
   ]
  },
  {
   "cell_type": "markdown",
   "metadata": {},
   "source": [
    "### TRIMMING, version 1...AS A FUNCTION\n",
    "    ...where the masks of all bands are the same (perhaps an unrealistic situation?)"
   ]
  },
  {
   "cell_type": "code",
   "execution_count": 43,
   "metadata": {},
   "outputs": [],
   "source": [
    "def trim_raster(data):\n",
    "    \"\"\"\n",
    "    Parameters\n",
    "    ----------\n",
    "    data:\n",
    "        A Rasterio-style numpy array (i.e., bands, rows, columns)\n",
    "    \n",
    "    Returns\n",
    "    ------\n",
    "    (1) the trimmed data...no nan values\n",
    "    (2) the masked data array in Rasterio-style\n",
    "    \"\"\"\n",
    "    \n",
    "    bands, rows, cols = data.shape\n",
    "    mask = np.isnan(data)\n",
    "    trimmed = data[~mask]\n",
    "    trimmed = trimmed.reshape(bands, int(len(trimmed)/bands)).T\n",
    "    return trimmed, np.invert(mask)"
   ]
  },
  {
   "cell_type": "code",
   "execution_count": null,
   "metadata": {},
   "outputs": [],
   "source": [
    "def trim_raster2(data):\n",
    "    \"\"\"\n",
    "    Parameters\n",
    "    ----------\n",
    "    data:\n",
    "        A Rasterio-style numpy array (i.e., bands, rows, columns)\n",
    "    \n",
    "    Returns\n",
    "    ------\n",
    "    (1) the trimmed data...no nan values\n",
    "    (2) the masked data array in Rasterio-style\n",
    "    \"\"\"\n",
    "    \n",
    "    bands, rows, cols = data.shape\n",
    "    mask = np.isnan(data)\n",
    "    trimmed = data[~mask]\n",
    "    trimmed = trimmed.reshape(bands, int(len(trimmed)/bands)).T\n",
    "    return trimmed, np.invert(mask)"
   ]
  },
  {
   "cell_type": "code",
   "execution_count": 44,
   "metadata": {},
   "outputs": [
    {
     "name": "stdout",
     "output_type": "stream",
     "text": [
      "[[  9.  39.  69.  99.]\n",
      " [ 10.  40.  70. 100.]\n",
      " [ 11.  41.  71. 101.]\n",
      " [ 14.  44.  74. 104.]\n",
      " [ 15.  45.  75. 105.]\n",
      " [ 16.  46.  76. 106.]\n",
      " [ 17.  47.  77. 107.]\n",
      " [ 20.  50.  80. 110.]\n",
      " [ 21.  51.  81. 111.]\n",
      " [ 22.  52.  82. 112.]]\n",
      "\n",
      "\n",
      "\n",
      "[[[False False False False False False]\n",
      "  [False False  True  True  True False]\n",
      "  [False  True  True  True  True False]\n",
      "  [False  True  True  True False False]\n",
      "  [False False False False False False]]\n",
      "\n",
      " [[False False False False False False]\n",
      "  [False False  True  True  True False]\n",
      "  [False  True  True  True  True False]\n",
      "  [False  True  True  True False False]\n",
      "  [False False False False False False]]\n",
      "\n",
      " [[False False False False False False]\n",
      "  [False False  True  True  True False]\n",
      "  [False  True  True  True  True False]\n",
      "  [False  True  True  True False False]\n",
      "  [False False False False False False]]\n",
      "\n",
      " [[False False False False False False]\n",
      "  [False False  True  True  True False]\n",
      "  [False  True  True  True  True False]\n",
      "  [False  True  True  True False False]\n",
      "  [False False False False False False]]]\n"
     ]
    }
   ],
   "source": [
    "trimmed2, mask2 = trim_raster(data)\n",
    "print(trimmed2)\n",
    "print(\"\\n\\n\")\n",
    "print(mask2)"
   ]
  },
  {
   "cell_type": "code",
   "execution_count": 46,
   "metadata": {},
   "outputs": [
    {
     "name": "stdout",
     "output_type": "stream",
     "text": [
      "(4, 5, 6)\n",
      "(10, 4)\n",
      "(4, 5, 6)\n"
     ]
    }
   ],
   "source": [
    "print(data.shape)\n",
    "print(trimmed2.shape)\n",
    "print(mask2.shape)"
   ]
  },
  {
   "cell_type": "markdown",
   "metadata": {},
   "source": [
    "### MAPPING BACK, version 1...\n",
    "    ...where the masks of all bands are the same (perhaps an unrealistic situation?)"
   ]
  },
  {
   "cell_type": "code",
   "execution_count": 27,
   "metadata": {},
   "outputs": [
    {
     "data": {
      "text/plain": [
       "array([[[ nan,  nan,  nan,  nan,  nan,  nan],\n",
       "        [ nan,  nan,   9.,  10.,  11.,  nan],\n",
       "        [ nan,  14.,  15.,  16.,  17.,  nan],\n",
       "        [ nan,  20.,  21.,  22.,  nan,  nan],\n",
       "        [ nan,  nan,  nan,  nan,  nan,  nan]],\n",
       "\n",
       "       [[ nan,  nan,  nan,  nan,  nan,  nan],\n",
       "        [ nan,  nan,  39.,  40.,  41.,  nan],\n",
       "        [ nan,  44.,  45.,  46.,  47.,  nan],\n",
       "        [ nan,  50.,  51.,  52.,  nan,  nan],\n",
       "        [ nan,  nan,  nan,  nan,  nan,  nan]],\n",
       "\n",
       "       [[ nan,  nan,  nan,  nan,  nan,  nan],\n",
       "        [ nan,  nan,  69.,  70.,  71.,  nan],\n",
       "        [ nan,  74.,  75.,  76.,  77.,  nan],\n",
       "        [ nan,  80.,  81.,  82.,  nan,  nan],\n",
       "        [ nan,  nan,  nan,  nan,  nan,  nan]],\n",
       "\n",
       "       [[ nan,  nan,  nan,  nan,  nan,  nan],\n",
       "        [ nan,  nan,  99., 100., 101.,  nan],\n",
       "        [ nan, 104., 105., 106., 107.,  nan],\n",
       "        [ nan, 110., 111., 112.,  nan,  nan],\n",
       "        [ nan,  nan,  nan,  nan,  nan,  nan]]])"
      ]
     },
     "execution_count": 27,
     "metadata": {},
     "output_type": "execute_result"
    }
   ],
   "source": [
    "bands, rows, cols = mask2.shape\n",
    "output = np.empty((bands, rows, cols))\n",
    "output[:, :, :] = np.nan\n",
    "for b in range(bands):\n",
    "    id = 0\n",
    "    for r in range(rows):\n",
    "        for c in range(cols):\n",
    "            if mask2[b, r, c]==True:\n",
    "                output[b, r, c] = trimmed[id, b]\n",
    "                id+=1\n",
    "output"
   ]
  },
  {
   "cell_type": "markdown",
   "metadata": {},
   "source": [
    "### MAPPING BACK, version 1...AS A FUNCTION\n",
    "    ...where the masks of all bands are the same (perhaps an unrealistic situation?)"
   ]
  },
  {
   "cell_type": "code",
   "execution_count": 72,
   "metadata": {},
   "outputs": [],
   "source": [
    "def mapback_raster(data, mask):\n",
    "    bands, rows, cols = mask.shape\n",
    "    output = np.empty((bands, rows, cols))\n",
    "    output[:, :, :] = np.nan\n",
    "    for b in range(bands):\n",
    "        id = 0\n",
    "        for r in range(rows):\n",
    "            for c in range(cols):\n",
    "                if mask[b, r, c]==True:\n",
    "                    output[b, r, c] = data[id, b]\n",
    "                    id+=1\n",
    "    \n",
    "    return output"
   ]
  },
  {
   "cell_type": "code",
   "execution_count": 73,
   "metadata": {},
   "outputs": [
    {
     "data": {
      "text/plain": [
       "array([[[ nan,  nan,  nan,  nan,  nan,  nan],\n",
       "        [ nan,  nan,   9.,  10.,  11.,  nan],\n",
       "        [ nan,  14.,  15.,  16.,  17.,  nan],\n",
       "        [ nan,  20.,  21.,  22.,  nan,  nan],\n",
       "        [ nan,  nan,  nan,  nan,  nan,  nan]],\n",
       "\n",
       "       [[ nan,  nan,  nan,  nan,  nan,  nan],\n",
       "        [ nan,  nan,  39.,  40.,  41.,  nan],\n",
       "        [ nan,  44.,  45.,  46.,  47.,  nan],\n",
       "        [ nan,  50.,  51.,  52.,  nan,  nan],\n",
       "        [ nan,  nan,  nan,  nan,  nan,  nan]],\n",
       "\n",
       "       [[ nan,  nan,  nan,  nan,  nan,  nan],\n",
       "        [ nan,  nan,  69.,  70.,  71.,  nan],\n",
       "        [ nan,  74.,  75.,  76.,  77.,  nan],\n",
       "        [ nan,  80.,  81.,  82.,  nan,  nan],\n",
       "        [ nan,  nan,  nan,  nan,  nan,  nan]],\n",
       "\n",
       "       [[ nan,  nan,  nan,  nan,  nan,  nan],\n",
       "        [ nan,  nan,  99., 100., 101.,  nan],\n",
       "        [ nan, 104., 105., 106., 107.,  nan],\n",
       "        [ nan, 110., 111., 112.,  nan,  nan],\n",
       "        [ nan,  nan,  nan,  nan,  nan,  nan]]])"
      ]
     },
     "execution_count": 73,
     "metadata": {},
     "output_type": "execute_result"
    }
   ],
   "source": [
    "mapback_raster(trimmed2, mask2)"
   ]
  },
  {
   "cell_type": "markdown",
   "metadata": {},
   "source": [
    "# __3. Now repeat with a twist--different nan's in different bands__"
   ]
  },
  {
   "cell_type": "markdown",
   "metadata": {},
   "source": [
    "### 3.a altering the data"
   ]
  },
  {
   "cell_type": "code",
   "execution_count": 31,
   "metadata": {},
   "outputs": [
    {
     "data": {
      "text/plain": [
       "array([[[ nan,  nan,  nan,  nan,  nan,  nan],\n",
       "        [ nan,  nan,   9.,  10.,  11.,  nan],\n",
       "        [ nan,  14.,  15.,  16.,  17.,  nan],\n",
       "        [ nan,  20.,  21.,  22.,  nan,  nan],\n",
       "        [ nan,  nan,  nan,  nan,  nan,  nan]],\n",
       "\n",
       "       [[ nan,  nan,  nan,  nan,  nan,  nan],\n",
       "        [ nan,  nan,  39.,  40.,  41.,  nan],\n",
       "        [ nan,  44.,  45.,  46.,  47.,  nan],\n",
       "        [ nan,  50.,  51.,  52.,  nan,  nan],\n",
       "        [ nan,  nan,  nan,  nan,  nan,  nan]],\n",
       "\n",
       "       [[ nan,  nan,  nan,  nan,  nan,  nan],\n",
       "        [ nan,  nan,  69.,  70.,  71.,  nan],\n",
       "        [ nan,  74.,  75.,  76.,  77.,  nan],\n",
       "        [ nan,  80.,  81.,  82.,  nan,  nan],\n",
       "        [ nan,  nan,  nan,  nan,  nan,  nan]],\n",
       "\n",
       "       [[ nan,  nan,  nan,  nan,  nan,  nan],\n",
       "        [ nan,  nan,  99., 100., 101.,  nan],\n",
       "        [ nan, 104., 105., 106., 107.,  nan],\n",
       "        [ nan, 110., 111.,  nan,  nan,  nan],\n",
       "        [ nan,  nan,  nan,  nan,  nan,  nan]]])"
      ]
     },
     "execution_count": 31,
     "metadata": {},
     "output_type": "execute_result"
    }
   ],
   "source": [
    "dat = data\n",
    "dat[3, 3, 3] = np.nan # This replaces the highest value pixel with nan\n",
    "dat"
   ]
  },
  {
   "cell_type": "markdown",
   "metadata": {},
   "source": [
    "### TRIMMING, version 2\n",
    "    ...with (potentially) different masks for each band (probably a realistic situation)"
   ]
  },
  {
   "cell_type": "code",
   "execution_count": 32,
   "metadata": {},
   "outputs": [
    {
     "data": {
      "text/plain": [
       "array([[[ True,  True,  True,  True,  True,  True],\n",
       "        [ True,  True, False, False, False,  True],\n",
       "        [ True, False, False, False, False,  True],\n",
       "        [ True, False, False, False,  True,  True],\n",
       "        [ True,  True,  True,  True,  True,  True]],\n",
       "\n",
       "       [[ True,  True,  True,  True,  True,  True],\n",
       "        [ True,  True, False, False, False,  True],\n",
       "        [ True, False, False, False, False,  True],\n",
       "        [ True, False, False, False,  True,  True],\n",
       "        [ True,  True,  True,  True,  True,  True]],\n",
       "\n",
       "       [[ True,  True,  True,  True,  True,  True],\n",
       "        [ True,  True, False, False, False,  True],\n",
       "        [ True, False, False, False, False,  True],\n",
       "        [ True, False, False, False,  True,  True],\n",
       "        [ True,  True,  True,  True,  True,  True]],\n",
       "\n",
       "       [[ True,  True,  True,  True,  True,  True],\n",
       "        [ True,  True, False, False, False,  True],\n",
       "        [ True, False, False, False, False,  True],\n",
       "        [ True, False, False,  True,  True,  True],\n",
       "        [ True,  True,  True,  True,  True,  True]]])"
      ]
     },
     "execution_count": 32,
     "metadata": {},
     "output_type": "execute_result"
    }
   ],
   "source": [
    "msk = np.isnan(dat)\n",
    "msk"
   ]
  },
  {
   "cell_type": "code",
   "execution_count": 33,
   "metadata": {},
   "outputs": [
    {
     "data": {
      "text/plain": [
       "array([[ True,  True,  True,  True,  True,  True],\n",
       "       [ True,  True, False, False, False,  True],\n",
       "       [ True, False, False, False, False,  True],\n",
       "       [ True, False, False,  True,  True,  True],\n",
       "       [ True,  True,  True,  True,  True,  True]])"
      ]
     },
     "execution_count": 33,
     "metadata": {},
     "output_type": "execute_result"
    }
   ],
   "source": [
    "msk = np.any(msk, axis=0)\n",
    "msk"
   ]
  },
  {
   "cell_type": "code",
   "execution_count": 34,
   "metadata": {},
   "outputs": [],
   "source": [
    "trmmd = dat[:, ~msk]"
   ]
  },
  {
   "cell_type": "code",
   "execution_count": 35,
   "metadata": {},
   "outputs": [],
   "source": [
    "trmmd = trmmd.T"
   ]
  },
  {
   "cell_type": "code",
   "execution_count": 37,
   "metadata": {},
   "outputs": [
    {
     "data": {
      "text/plain": [
       "array([[  9.,  39.,  69.,  99.],\n",
       "       [ 10.,  40.,  70., 100.],\n",
       "       [ 11.,  41.,  71., 101.],\n",
       "       [ 14.,  44.,  74., 104.],\n",
       "       [ 15.,  45.,  75., 105.],\n",
       "       [ 16.,  46.,  76., 106.],\n",
       "       [ 17.,  47.,  77., 107.],\n",
       "       [ 20.,  50.,  80., 110.],\n",
       "       [ 21.,  51.,  81., 111.]])"
      ]
     },
     "execution_count": 37,
     "metadata": {},
     "output_type": "execute_result"
    }
   ],
   "source": [
    "trmmd"
   ]
  },
  {
   "cell_type": "code",
   "execution_count": 38,
   "metadata": {},
   "outputs": [
    {
     "data": {
      "text/plain": [
       "(9, 4)"
      ]
     },
     "execution_count": 38,
     "metadata": {},
     "output_type": "execute_result"
    }
   ],
   "source": [
    "trmmd.shape"
   ]
  },
  {
   "cell_type": "code",
   "execution_count": 39,
   "metadata": {},
   "outputs": [
    {
     "data": {
      "text/plain": [
       "2"
      ]
     },
     "execution_count": 39,
     "metadata": {},
     "output_type": "execute_result"
    }
   ],
   "source": [
    "trmmd.ndim"
   ]
  },
  {
   "cell_type": "code",
   "execution_count": 40,
   "metadata": {},
   "outputs": [
    {
     "name": "stdout",
     "output_type": "stream",
     "text": [
      "9.0\n",
      "111.0\n",
      "59.77777777777778\n"
     ]
    }
   ],
   "source": [
    "print(np.min(trmmd))\n",
    "print(np.max(trmmd))\n",
    "print(np.mean(trmmd))"
   ]
  },
  {
   "cell_type": "markdown",
   "metadata": {},
   "source": [
    "### TRIMMING, version 2...AS A FUNCTION\n",
    "    ...with (potentially) different masks for each band (probably a realistic situation)"
   ]
  },
  {
   "cell_type": "code",
   "execution_count": 41,
   "metadata": {},
   "outputs": [],
   "source": [
    "def trim_raster2(data):\n",
    "    \"\"\"\n",
    "    Parameters\n",
    "    ----------\n",
    "    data:\n",
    "        A Rasterio-style numpy array (i.e., bands, rows, columns)\n",
    "    \n",
    "    Returns\n",
    "    ------\n",
    "    (1) the trimmed data...no nan values\n",
    "    (2) the masked data array in Rasterio-style\n",
    "    \"\"\"\n",
    "    \n",
    "    bands, rows, cols = data.shape\n",
    "    mask = np.isnan(data)\n",
    "    mask = np.any(mask, axis=0) \n",
    "    trimmed = data[:, ~mask].T\n",
    "    return trimmed, np.invert(mask)"
   ]
  },
  {
   "cell_type": "code",
   "execution_count": 42,
   "metadata": {},
   "outputs": [
    {
     "name": "stdout",
     "output_type": "stream",
     "text": [
      "[[  9.  39.  69.  99.]\n",
      " [ 10.  40.  70. 100.]\n",
      " [ 11.  41.  71. 101.]\n",
      " [ 14.  44.  74. 104.]\n",
      " [ 15.  45.  75. 105.]\n",
      " [ 16.  46.  76. 106.]\n",
      " [ 17.  47.  77. 107.]\n",
      " [ 20.  50.  80. 110.]\n",
      " [ 21.  51.  81. 111.]]\n",
      "\n",
      "\n",
      "\n",
      "[[False False False False False False]\n",
      " [False False  True  True  True False]\n",
      " [False  True  True  True  True False]\n",
      " [False  True  True False False False]\n",
      " [False False False False False False]]\n"
     ]
    }
   ],
   "source": [
    "trmmd2, msk2 = trim_raster2(dat)\n",
    "print(trmmd2)\n",
    "print(\"\\n\\n\")\n",
    "print(msk2)"
   ]
  },
  {
   "cell_type": "markdown",
   "metadata": {},
   "source": [
    "### MAPPING BACK, version 2...\n",
    "    ...with (potentially) different masks for each band (probably a realistic situation)"
   ]
  },
  {
   "cell_type": "code",
   "execution_count": 43,
   "metadata": {},
   "outputs": [
    {
     "data": {
      "text/plain": [
       "(4, 5, 6)"
      ]
     },
     "execution_count": 43,
     "metadata": {},
     "output_type": "execute_result"
    }
   ],
   "source": [
    "dat.shape"
   ]
  },
  {
   "cell_type": "code",
   "execution_count": 44,
   "metadata": {},
   "outputs": [
    {
     "data": {
      "text/plain": [
       "array([[[ nan,  nan,  nan,  nan,  nan,  nan],\n",
       "        [ nan,  nan,   9.,  10.,  11.,  nan],\n",
       "        [ nan,  14.,  15.,  16.,  17.,  nan],\n",
       "        [ nan,  20.,  21.,  nan,  nan,  nan],\n",
       "        [ nan,  nan,  nan,  nan,  nan,  nan]],\n",
       "\n",
       "       [[ nan,  nan,  nan,  nan,  nan,  nan],\n",
       "        [ nan,  nan,  39.,  40.,  41.,  nan],\n",
       "        [ nan,  44.,  45.,  46.,  47.,  nan],\n",
       "        [ nan,  50.,  51.,  nan,  nan,  nan],\n",
       "        [ nan,  nan,  nan,  nan,  nan,  nan]],\n",
       "\n",
       "       [[ nan,  nan,  nan,  nan,  nan,  nan],\n",
       "        [ nan,  nan,  69.,  70.,  71.,  nan],\n",
       "        [ nan,  74.,  75.,  76.,  77.,  nan],\n",
       "        [ nan,  80.,  81.,  nan,  nan,  nan],\n",
       "        [ nan,  nan,  nan,  nan,  nan,  nan]],\n",
       "\n",
       "       [[ nan,  nan,  nan,  nan,  nan,  nan],\n",
       "        [ nan,  nan,  99., 100., 101.,  nan],\n",
       "        [ nan, 104., 105., 106., 107.,  nan],\n",
       "        [ nan, 110., 111.,  nan,  nan,  nan],\n",
       "        [ nan,  nan,  nan,  nan,  nan,  nan]]])"
      ]
     },
     "execution_count": 44,
     "metadata": {},
     "output_type": "execute_result"
    }
   ],
   "source": [
    "bands, rows, cols = dat.shape\n",
    "output = np.empty((bands, rows, cols))\n",
    "output[:, :, :] = np.nan\n",
    "for b in range(bands):\n",
    "    id = 0\n",
    "    for r in range(rows):\n",
    "        for c in range(cols):\n",
    "            if msk2[r, c]==True:\n",
    "                output[b, r, c] = trmmd2[id, b]\n",
    "                id+=1\n",
    "output"
   ]
  },
  {
   "cell_type": "markdown",
   "metadata": {},
   "source": [
    "### MAPPING BACK, version 2...AS A FUNCTION\n",
    "    ...with (potentially) different masks for each band (probably a realistic situation)"
   ]
  },
  {
   "cell_type": "code",
   "execution_count": 49,
   "metadata": {},
   "outputs": [],
   "source": [
    "def mapback_raster2(data, mask, bands):\n",
    "    rows, cols = mask.shape\n",
    "    output = np.empty((bands, rows, cols))\n",
    "    output[:, :, :] = np.nan\n",
    "    for b in range(bands):\n",
    "        id = 0\n",
    "        for r in range(rows):\n",
    "            for c in range(cols):\n",
    "                if mask[r, c]==True:\n",
    "                    output[b, r, c] = data[id, b]\n",
    "                    id+=1\n",
    "    \n",
    "    return output"
   ]
  },
  {
   "cell_type": "code",
   "execution_count": 50,
   "metadata": {},
   "outputs": [
    {
     "data": {
      "text/plain": [
       "array([[[ nan,  nan,  nan,  nan,  nan,  nan],\n",
       "        [ nan,  nan,   9.,  10.,  11.,  nan],\n",
       "        [ nan,  14.,  15.,  16.,  17.,  nan],\n",
       "        [ nan,  20.,  21.,  nan,  nan,  nan],\n",
       "        [ nan,  nan,  nan,  nan,  nan,  nan]],\n",
       "\n",
       "       [[ nan,  nan,  nan,  nan,  nan,  nan],\n",
       "        [ nan,  nan,  39.,  40.,  41.,  nan],\n",
       "        [ nan,  44.,  45.,  46.,  47.,  nan],\n",
       "        [ nan,  50.,  51.,  nan,  nan,  nan],\n",
       "        [ nan,  nan,  nan,  nan,  nan,  nan]],\n",
       "\n",
       "       [[ nan,  nan,  nan,  nan,  nan,  nan],\n",
       "        [ nan,  nan,  69.,  70.,  71.,  nan],\n",
       "        [ nan,  74.,  75.,  76.,  77.,  nan],\n",
       "        [ nan,  80.,  81.,  nan,  nan,  nan],\n",
       "        [ nan,  nan,  nan,  nan,  nan,  nan]],\n",
       "\n",
       "       [[ nan,  nan,  nan,  nan,  nan,  nan],\n",
       "        [ nan,  nan,  99., 100., 101.,  nan],\n",
       "        [ nan, 104., 105., 106., 107.,  nan],\n",
       "        [ nan, 110., 111.,  nan,  nan,  nan],\n",
       "        [ nan,  nan,  nan,  nan,  nan,  nan]]])"
      ]
     },
     "execution_count": 50,
     "metadata": {},
     "output_type": "execute_result"
    }
   ],
   "source": [
    "mapback_raster2(trmmd2, msk2, dat.shape[0])"
   ]
  },
  {
   "cell_type": "markdown",
   "metadata": {},
   "source": [
    "## OK. Let's try PCA"
   ]
  },
  {
   "cell_type": "code",
   "execution_count": 51,
   "metadata": {},
   "outputs": [],
   "source": [
    "pca = PCA(n_components=4)"
   ]
  },
  {
   "cell_type": "code",
   "execution_count": 52,
   "metadata": {},
   "outputs": [
    {
     "data": {
      "text/plain": [
       "PCA(copy=True, iterated_power='auto', n_components=4, random_state=None,\n",
       "    svd_solver='auto', tol=0.0, whiten=False)"
      ]
     },
     "execution_count": 52,
     "metadata": {},
     "output_type": "execute_result"
    }
   ],
   "source": [
    "pca.fit(trmmd2)"
   ]
  },
  {
   "cell_type": "code",
   "execution_count": 53,
   "metadata": {},
   "outputs": [
    {
     "name": "stdout",
     "output_type": "stream",
     "text": [
      "[1.00000000e+00 8.37381552e-31 6.64056568e-34 4.87678248e-63]\n"
     ]
    }
   ],
   "source": [
    "print(pca.explained_variance_ratio_) "
   ]
  },
  {
   "cell_type": "code",
   "execution_count": null,
   "metadata": {},
   "outputs": [],
   "source": []
  }
 ],
 "metadata": {
  "kernelspec": {
   "display_name": "Python 3",
   "language": "python",
   "name": "python3"
  },
  "language_info": {
   "codemirror_mode": {
    "name": "ipython",
    "version": 3
   },
   "file_extension": ".py",
   "mimetype": "text/x-python",
   "name": "python",
   "nbconvert_exporter": "python",
   "pygments_lexer": "ipython3",
   "version": "3.7.3"
  }
 },
 "nbformat": 4,
 "nbformat_minor": 4
}
