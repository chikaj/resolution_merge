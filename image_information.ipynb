{
 "cells": [
  {
   "cell_type": "code",
   "execution_count": 1,
   "metadata": {},
   "outputs": [],
   "source": [
    "import rasterio\n",
    "from rasterio import warp\n",
    "from rasterio.plot import show\n",
    "# from rasterio.rio import clip\n",
    "from matplotlib import pyplot\n",
    "from rasterio.windows import Window\n",
    "from affine import Affine\n",
    "from sklearn.decomposition import PCA\n",
    "import numpy as np\n",
    "import geopandas as gpd"
   ]
  },
  {
   "cell_type": "code",
   "execution_count": 4,
   "metadata": {},
   "outputs": [
    {
     "name": "stdout",
     "output_type": "stream",
     "text": [
      "2\n",
      "(746, 662)\n",
      "| 30.00, 0.00, 315607.50|\n",
      "| 0.00,-30.00, 4319347.50|\n",
      "| 0.00, 0.00, 1.00|\n"
     ]
    }
   ],
   "source": [
    "path = \"./data/\"\n",
    "with rasterio.open(path + \"t1011dc_nowtrS.img\") as src:\n",
    "    print(src.count)\n",
    "    print(src.shape)\n",
    "    print(src.transform)"
   ]
  },
  {
   "cell_type": "code",
   "execution_count": null,
   "metadata": {},
   "outputs": [],
   "source": []
  }
 ],
 "metadata": {
  "kernelspec": {
   "display_name": "Python 3",
   "language": "python",
   "name": "python3"
  },
  "language_info": {
   "codemirror_mode": {
    "name": "ipython",
    "version": 3
   },
   "file_extension": ".py",
   "mimetype": "text/x-python",
   "name": "python",
   "nbconvert_exporter": "python",
   "pygments_lexer": "ipython3",
   "version": "3.7.3"
  }
 },
 "nbformat": 4,
 "nbformat_minor": 4
}
